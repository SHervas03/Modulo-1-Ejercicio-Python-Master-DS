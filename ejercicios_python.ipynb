{
 "cells": [
  {
   "cell_type": "markdown",
   "metadata": {},
   "source": [
    "Importamos ElementTree para la manipulacion de XML"
   ]
  },
  {
   "cell_type": "code",
   "execution_count": 1,
   "metadata": {},
   "outputs": [],
   "source": [
    "import xml.etree.ElementTree as ET"
   ]
  },
  {
   "cell_type": "markdown",
   "metadata": {},
   "source": [
    "Cargamos el archivo XML"
   ]
  },
  {
   "cell_type": "code",
   "execution_count": 2,
   "metadata": {},
   "outputs": [],
   "source": [
    "tree = ET.parse('./books_large.xml')"
   ]
  },
  {
   "cell_type": "markdown",
   "metadata": {},
   "source": [
    "Obtenemos la raiz del XML"
   ]
  },
  {
   "cell_type": "code",
   "execution_count": 3,
   "metadata": {},
   "outputs": [],
   "source": [
    "root = tree.getroot()"
   ]
  },
  {
   "cell_type": "markdown",
   "metadata": {},
   "source": [
    "### Impresión del contenido\n",
    "\n",
    "Dos metodologias que se me han ocurrido a la hora de resolver el ejercicio:\n",
    "\n",
    "- **Metodologia 1** (Con tiempo de ejecucion mayor respecto a 'Metodologia 2' devido al doble 'for')\n"
   ]
  },
  {
   "cell_type": "code",
   "execution_count": 4,
   "metadata": {},
   "outputs": [
    {
     "name": "stdout",
     "output_type": "stream",
     "text": [
      "********Procesando todos los libros********\n",
      "---Processing Book---\n",
      "\tAuthor -> Garghentini, Davide\n",
      "\tTitle -> XML Developer's Guide\n",
      "\tGenre -> Computer\n",
      "\tPrice -> 44.95\n",
      "\tPublishDate -> 2000-10-01\n",
      "\tDescription -> An in-depth look at creating applications\n",
      "      with XML.\n",
      "---Processing Book---\n",
      "\tAuthor -> Garcia, Debra\n",
      "\tTitle -> Midnight Rain\n",
      "\tGenre -> Fantasy\n",
      "\tPrice -> 5.95\n",
      "\tPublishDate -> 2000-12-16\n",
      "\tDescription -> A former architect battles corporate zombies,\n",
      "      an evil sorceress, and her own childhood to become queen\n",
      "      of the world.\n",
      "---Processing Book---\n",
      "\tAuthor -> Smith, John\n",
      "\tTitle -> The Adventures of Data\n",
      "\tGenre -> Adventure\n",
      "\tPrice -> 29.99\n",
      "\tPublishDate -> 2002-05-15\n",
      "\tDescription -> A thrilling journey through the world of data.\n",
      "---Processing Book---\n",
      "\tAuthor -> Johnson, Emily\n",
      "\tTitle -> Code Chronicles\n",
      "\tGenre -> Science Fiction\n",
      "\tPrice -> 12.50\n",
      "\tPublishDate -> 2001-08-20\n",
      "\tDescription -> An epic tale of coding and discovery.\n",
      "---Processing Book---\n",
      "\tAuthor -> Martin, David\n",
      "\tTitle -> Data Dilemma\n",
      "\tGenre -> Mystery\n",
      "\tPrice -> 19.95\n",
      "\tPublishDate -> 2004-03-10\n",
      "\tDescription -> Solving mysteries in the data-driven world.\n",
      "---Processing Book---\n",
      "\tAuthor -> Chang, Lisa\n",
      "\tTitle -> Byte Busters\n",
      "\tGenre -> Action\n",
      "\tPrice -> 15.75\n",
      "\tPublishDate -> 2003-11-28\n",
      "\tDescription -> A team of programmers on a mission to save the digital realm.\n",
      "---Processing Book---\n",
      "\tAuthor -> Anderson, Michael\n",
      "\tTitle -> Quantum Coding\n",
      "\tGenre -> Science Fiction\n",
      "\tPrice -> 22.00\n",
      "\tPublishDate -> 2005-06-05\n",
      "\tDescription -> Exploring the intersection of quantum physics and coding.\n",
      "---Processing Book---\n",
      "\tAuthor -> Robinson, Sarah\n",
      "\tTitle -> Cybernetic Dreams\n",
      "\tGenre -> Cyberpunk\n",
      "\tPrice -> 18.50\n",
      "\tPublishDate -> 2006-09-18\n",
      "\tDescription -> A futuristic journey into the realm of cybernetics and dreams.\n",
      "---Processing Book---\n",
      "\tAuthor -> Williams, Brian\n",
      "\tTitle -> The Code Conundrum\n",
      "\tGenre -> Mystery\n",
      "\tPrice -> 14.99\n",
      "\tPublishDate -> 2002-12-03\n",
      "\tDescription -> Unraveling the enigma of a mysterious code.\n",
      "---Processing Book---\n",
      "\tAuthor -> Johnson, Karen\n",
      "\tTitle -> Virtual Realities\n",
      "\tGenre -> Virtual Reality\n",
      "\tPrice -> 25.50\n",
      "\tPublishDate -> 2004-08-22\n",
      "\tDescription -> Immersive experiences in the world of virtual realities.\n",
      "---Processing Book---\n",
      "\tAuthor -> Miller, Christopher\n",
      "\tTitle -> The Code Quest\n",
      "\tGenre -> Quest\n",
      "\tPrice -> 34.99\n",
      "\tPublishDate -> 2008-07-12\n",
      "\tDescription -> An epic journey to uncover the ultimate code.\n",
      "---Processing Book---\n",
      "\tAuthor -> Lee, Samantha\n",
      "\tTitle -> Bits and Pieces\n",
      "\tGenre -> Puzzle\n",
      "\tPrice -> 17.50\n",
      "\tPublishDate -> 2009-04-25\n",
      "\tDescription -> Putting together the pieces of a mysterious digital puzzle.\n",
      "---Processing Book---\n",
      "\tAuthor -> Nguyen, Peter\n",
      "\tTitle -> Algorithmic Symphony\n",
      "\tGenre -> Music\n",
      "\tPrice -> 21.95\n",
      "\tPublishDate -> 2002-11-08\n",
      "\tDescription -> Exploring the harmonies of algorithms in music composition.\n",
      "---Processing Book---\n",
      "\tAuthor -> Clark, Rachel\n",
      "\tTitle -> The Quantum Quandary\n",
      "\tGenre -> Science Fiction\n",
      "\tPrice -> 19.75\n",
      "\tPublishDate -> 2003-06-30\n",
      "\tDescription -> Navigating the perplexities of quantum programming.\n",
      "---Processing Book---\n",
      "\tAuthor -> Gomez, Carlos\n",
      "\tTitle -> Virtual Visions\n",
      "\tGenre -> Virtual Reality\n",
      "\tPrice -> 23.00\n",
      "\tPublishDate -> 2004-09-14\n",
      "\tDescription -> Immersive journeys through virtual landscapes and visions.\n",
      "---Processing Book---\n",
      "\tAuthor -> Wong, Michelle\n",
      "\tTitle -> Code Artistry\n",
      "\tGenre -> Art\n",
      "\tPrice -> 27.50\n",
      "\tPublishDate -> 2008-12-22\n",
      "\tDescription -> Expressing creativity through the artistry of code.\n",
      "---Processing Book---\n",
      "\tAuthor -> Anderson, Olivia\n",
      "\tTitle -> The Coding Odyssey\n",
      "\tGenre -> Adventure\n",
      "\tPrice -> 31.99\n",
      "\tPublishDate -> 2015-08-18\n",
      "\tDescription -> An adventurous journey through the coding realm.\n",
      "---Processing Book---\n",
      "\tAuthor -> Smith, Matthew\n",
      "\tTitle -> Data Detective\n",
      "\tGenre -> Mystery\n",
      "\tPrice -> 16.50\n",
      "\tPublishDate -> 2000-03-05\n",
      "\tDescription -> Solving data mysteries with a touch of detective work.\n",
      "---Processing Book---\n",
      "\tAuthor -> Chang, Daniel\n",
      "\tTitle -> Pixel Perfection\n",
      "\tGenre -> Design\n",
      "\tPrice -> 24.95\n",
      "\tPublishDate -> 2001-10-29\n",
      "\tDescription -> Creating visually stunning digital experiences with pixel perfection.\n",
      "---Processing Book---\n",
      "\tAuthor -> Nguyen, Jessica\n",
      "\tTitle -> Code and Coffee\n",
      "\tGenre -> Humor\n",
      "\tPrice -> 14.75\n",
      "\tPublishDate -> 2005-06-12\n",
      "\tDescription -> A humorous look at the daily life of a coder fueled by coffee.\n",
      "---Processing Book---\n",
      "\tAuthor -> Wu, Michael\n",
      "\tTitle -> The Algorithmic Garden\n",
      "\tGenre -> Gardening\n",
      "\tPrice -> 20.00\n",
      "\tPublishDate -> 2006-12-03\n",
      "\tDescription -> Cultivating an algorithmic garden of ideas and creativity.\n",
      "---Processing Book---\n",
      "\tAuthor -> Kim, Sophia\n",
      "\tTitle -> Code Canvas\n",
      "\tGenre -> Art\n",
      "\tPrice -> 26.50\n",
      "\tPublishDate -> 2007-09-15\n",
      "\tDescription -> Exploring the art of code on a digital canvas.\n",
      "---Processing Book---\n",
      "\tAuthor -> Johnson, Ethan\n",
      "\tTitle -> Code Symphony\n",
      "\tGenre -> Music\n",
      "\tPrice -> 28.99\n",
      "\tPublishDate -> 2000-04-20\n",
      "\tDescription -> Exploring the harmonious world of code and music.\n",
      "---Processing Book---\n",
      "\tAuthor -> Williams, Megan\n",
      "\tTitle -> The Data Enigma\n",
      "\tGenre -> Mystery\n",
      "\tPrice -> 18.50\n",
      "\tPublishDate -> 2000-01-08\n",
      "\tDescription -> Unraveling the mysteries hidden in vast datasets.\n",
      "---Processing Book---\n",
      "\tAuthor -> Chen, Brian\n",
      "\tTitle -> Virtual Realms\n",
      "\tGenre -> Virtual Reality\n",
      "\tPrice -> 23.95\n",
      "\tPublishDate -> 2004-06-25\n",
      "\tDescription -> Embarking on virtual journeys through immersive realms.\n",
      "---Processing Book---\n",
      "\tAuthor -> Lee, Stephanie\n",
      "\tTitle -> Algorithmic Adventures\n",
      "\tGenre -> Adventure\n",
      "\tPrice -> 32.75\n",
      "\tPublishDate -> 2000-03-12\n",
      "\tDescription -> An adventurous exploration of algorithmic landscapes.\n",
      "---Processing Book---\n",
      "\tAuthor -> Garcia, Carlos\n",
      "\tTitle -> The Code Conductor\n",
      "\tGenre -> Music\n",
      "\tPrice -> 25.00\n",
      "\tPublishDate -> 2002-09-18\n",
      "\tDescription -> Conducting symphonies with the power of code.\n",
      "---Processing Book---\n",
      "\tAuthor -> Wu, Emily\n",
      "\tTitle -> The Quantum Quilt\n",
      "\tGenre -> Crafts\n",
      "\tPrice -> 21.50\n",
      "\tPublishDate -> 2003-12-01\n",
      "\tDescription -> Creating a quilt of quantum patterns with code.\n",
      "---Processing Book---\n",
      "\tAuthor -> Miller, Jessica\n",
      "\tTitle -> The Coding Quest\n",
      "\tGenre -> Adventure\n",
      "\tPrice -> 27.99\n",
      "\tPublishDate -> 2006-05-15\n",
      "\tDescription -> An adventurous quest through the coding landscape.\n",
      "---Processing Book---\n",
      "\tAuthor -> Chen, Kevin\n",
      "\tTitle -> Data Dystopia\n",
      "\tGenre -> Dystopian\n",
      "\tPrice -> 21.50\n",
      "\tPublishDate -> 2005-02-08\n",
      "\tDescription -> Exploring a dystopian world ruled by data.\n",
      "---Processing Book---\n",
      "\tAuthor -> Williams, Rachel\n",
      "\tTitle -> Byte Ballet\n",
      "\tGenre -> Art\n",
      "\tPrice -> 19.95\n",
      "\tPublishDate -> 2004-09-22\n",
      "\tDescription -> Dancing through the world of code and artistry.\n",
      "---Processing Book---\n",
      "\tAuthor -> Lee, Christopher\n",
      "\tTitle -> The Quantum Quandary\n",
      "\tGenre -> Science Fiction\n",
      "\tPrice -> 24.75\n",
      "\tPublishDate -> 2005-06-12\n",
      "\tDescription -> Navigating the enigmas of quantum programming.\n",
      "---Processing Book---\n",
      "\tAuthor -> Nguyen, Emily\n",
      "\tTitle -> Code Canvas\n",
      "\tGenre -> Art\n",
      "\tPrice -> 29.00\n",
      "\tPublishDate -> 2000-11-25\n",
      "\tDescription -> Expressing creativity on a digital canvas through code.\n",
      "---Processing Book---\n",
      "\tAuthor -> Wong, Daniel\n",
      "\tTitle -> Virtual Vortex\n",
      "\tGenre -> Virtual Reality\n",
      "\tPrice -> 26.50\n",
      "\tPublishDate -> 2010-08-18\n",
      "\tDescription -> Getting lost in the immersive vortex of virtual reality.\n",
      "---Processing Book---\n",
      "\tAuthor -> Clark, Olivia\n",
      "\tTitle -> Code Chronicles\n",
      "\tGenre -> Science Fiction\n",
      "\tPrice -> 22.99\n",
      "\tPublishDate -> 2009-04-05\n",
      "\tDescription -> An epic journey through the chronicles of code.\n",
      "---Processing Book---\n",
      "\tAuthor -> Miller, Daniel\n",
      "\tTitle -> Data Delight\n",
      "\tGenre -> Cookbook\n",
      "\tPrice -> 18.50\n",
      "\tPublishDate -> 2012-01-28\n",
      "\tDescription -> Cooking up delightful recipes with the magic of data.\n",
      "---Processing Book---\n",
      "\tAuthor -> Chen, Sarah\n",
      "\tTitle -> Algorithmic Adventures\n",
      "\tGenre -> Adventure\n",
      "\tPrice -> 26.95\n",
      "\tPublishDate -> 2007-10-15\n",
      "\tDescription -> An adventurous exploration of algorithmic landscapes.\n",
      "---Processing Book---\n",
      "\tAuthor -> Williams, Ethan\n",
      "\tTitle -> The Code Conductor\n",
      "\tGenre -> Music\n",
      "\tPrice -> 31.75\n",
      "\tPublishDate -> 2008-06-02\n",
      "\tDescription -> Conducting symphonies with the power of code.\n",
      "---Processing Book---\n",
      "\tAuthor -> Gomez, Mia\n",
      "\tTitle -> Quantum Quilt\n",
      "\tGenre -> Crafts\n",
      "\tPrice -> 20.50\n",
      "\tPublishDate -> 2006-12-19\n",
      "\tDescription -> Creating a quilt of quantum patterns with code.\n",
      "---Processing Book---\n",
      "\tAuthor -> Lee, Andrew\n",
      "\tTitle -> The Art of Code\n",
      "\tGenre -> Art\n",
      "\tPrice -> 28.00\n",
      "\tPublishDate -> 2004-09-10\n",
      "\tDescription -> Mastering the artistry of code in creative endeavors.\n",
      "---Processing Book---\n",
      "\tAuthor -> Smith, Olivia\n",
      "\tTitle -> The Coding Saga\n",
      "\tGenre -> Fantasy\n",
      "\tPrice -> 24.99\n",
      "\tPublishDate -> 2006-08-14\n",
      "\tDescription -> An epic fantasy saga set in the world of coding.\n",
      "---Processing Book---\n",
      "\tAuthor -> Chang, Brian\n",
      "\tTitle -> Data Dynamics\n",
      "\tGenre -> Science\n",
      "\tPrice -> 19.50\n",
      "\tPublishDate -> 2007-04-01\n",
      "\tDescription -> Exploring the dynamic world of data in science.\n",
      "---Processing Book---\n",
      "\tAuthor -> Lee, Emma\n",
      "\tTitle -> Code Carnival\n",
      "\tGenre -> Entertainment\n",
      "\tPrice -> 29.95\n",
      "\tPublishDate -> 2000-11-08\n",
      "\tDescription -> A carnival of coding wonders and entertainment.\n",
      "---Processing Book---\n",
      "\tAuthor -> Nguyen, Christopher\n",
      "\tTitle -> The Algorithmic Garden\n",
      "\tGenre -> Gardening\n",
      "\tPrice -> 25.75\n",
      "\tPublishDate -> 2010-06-20\n",
      "\tDescription -> Cultivating an algorithmic garden of ideas and creativity.\n",
      "---Processing Book---\n",
      "\tAuthor -> Wu, Sophia\n",
      "\tTitle -> Byte Bliss\n",
      "\tGenre -> Self-Help\n",
      "\tPrice -> 21.00\n",
      "\tPublishDate -> 2011-12-12\n",
      "\tDescription -> Finding bliss and balance through the bytes of life.\n",
      "---Processing Book---\n",
      "\tAuthor -> Clark, Daniel\n",
      "\tTitle -> Virtual Voyages\n",
      "\tGenre -> Virtual Reality\n",
      "\tPrice -> 27.50\n",
      "\tPublishDate -> 2006-09-25\n",
      "\tDescription -> Embarking on virtual voyages in immersive realms.\n",
      "---Processing Book---\n",
      "\tAuthor -> Wong, Olivia\n",
      "\tTitle -> The Code Odyssey\n",
      "\tGenre -> Adventure\n",
      "\tPrice -> 26.99\n",
      "\tPublishDate -> 2003-04-10\n",
      "\tDescription -> An odyssey through the diverse realms of coding.\n",
      "---Processing Book---\n",
      "\tAuthor -> Miller, Ethan\n",
      "\tTitle -> Data Dreams\n",
      "\tGenre -> Fantasy\n",
      "\tPrice -> 18.50\n",
      "\tPublishDate -> 2000-01-05\n",
      "\tDescription -> Exploring the fantastical dreams woven in the fabric of data.\n",
      "---Processing Book---\n",
      "\tAuthor -> Lee, Mia\n",
      "\tTitle -> Algorithmic Artistry\n",
      "\tGenre -> Art\n",
      "\tPrice -> 23.95\n",
      "\tPublishDate -> 2000-10-18\n",
      "\tDescription -> Expressing artistic visions through the magic of algorithms.\n",
      "---Processing Book---\n",
      "\tAuthor -> Chen, Brian\n",
      "\tTitle -> Code Carnival\n",
      "\tGenre -> Entertainment\n",
      "\tPrice -> 29.75\n",
      "\tPublishDate -> 2005-06-30\n",
      "\tDescription -> A carnival of coding wonders and entertainment.\n",
      "---Processing Book---\n",
      "\tAuthor -> Nguyen, Emily\n",
      "\tTitle -> The Quantum Quilt\n",
      "\tGenre -> Crafts\n",
      "\tPrice -> 22.50\n",
      "\tPublishDate -> 2008-12-15\n",
      "\tDescription -> Creating a quilt of quantum patterns with code.\n",
      "---Processing Book---\n",
      "\tAuthor -> Gomez, Christopher\n",
      "\tTitle -> Code Chronicles\n",
      "\tGenre -> Science Fiction\n",
      "\tPrice -> 27.00\n",
      "\tPublishDate -> 2008-09-22\n",
      "\tDescription -> An epic journey through the chronicles of code.\n",
      "---Processing Book---\n",
      "\tAuthor -> Smith, Sophia\n",
      "\tTitle -> Code Quest\n",
      "\tGenre -> Adventure\n",
      "\tPrice -> 25.99\n",
      "\tPublishDate -> 2001-04-12\n",
      "\tDescription -> Embarking on an adventurous quest through the coding landscape.\n",
      "---Processing Book---\n",
      "\tAuthor -> Chang, Daniel\n",
      "\tTitle -> Data Dazzle\n",
      "\tGenre -> Art\n",
      "\tPrice -> 20.50\n",
      "\tPublishDate -> 2002-01-28\n",
      "\tDescription -> Dazzling the world with the artistry of data.\n",
      "---Processing Book---\n",
      "\tAuthor -> Lee, Mia\n",
      "\tTitle -> Algorithmic Adventures\n",
      "\tGenre -> Adventure\n",
      "\tPrice -> 28.95\n",
      "\tPublishDate -> 2003-10-15\n",
      "\tDescription -> An adventurous exploration of algorithmic landscapes.\n",
      "---Processing Book---\n",
      "\tAuthor -> Williams, Ethan\n",
      "\tTitle -> The Code Maestro\n",
      "\tGenre -> Music\n",
      "\tPrice -> 33.75\n",
      "\tPublishDate -> 2005-06-20\n",
      "\tDescription -> Mastering the art of conducting symphonies with code.\n",
      "---Processing Book---\n",
      "\tAuthor -> Gomez, Olivia\n",
      "\tTitle -> Quantum Quilting\n",
      "\tGenre -> Crafts\n",
      "\tPrice -> 19.50\n",
      "\tPublishDate -> 2006-12-10\n",
      "\tDescription -> Weaving quantum patterns into a quilt of creative code.\n",
      "---Processing Book---\n",
      "\tAuthor -> Clark, Christopher\n",
      "\tTitle -> Virtual Voyages\n",
      "\tGenre -> Virtual Reality\n",
      "\tPrice -> 26.00\n",
      "\tPublishDate -> 2009-09-25\n",
      "\tDescription -> Embarking on virtual voyages in immersive realms.\n",
      "---Processing Book---\n",
      "\tAuthor -> Miller, Olivia\n",
      "\tTitle -> The Coding Chronicles\n",
      "\tGenre -> Fantasy\n",
      "\tPrice -> 28.99\n",
      "\tPublishDate -> 2009-04-15\n",
      "\tDescription -> An epic fantasy chronicling the world of coding.\n",
      "---Processing Book---\n",
      "\tAuthor -> Chang, Brian\n",
      "\tTitle -> Data Dreamscape\n",
      "\tGenre -> Science Fiction\n",
      "\tPrice -> 22.50\n",
      "\tPublishDate -> 2007-01-08\n",
      "\tDescription -> Exploring dreams and realities through the lens of data.\n",
      "---Processing Book---\n",
      "\tAuthor -> Lee, Emma\n",
      "\tTitle -> Algorithmic Artistry\n",
      "\tGenre -> Art\n",
      "\tPrice -> 26.95\n",
      "\tPublishDate -> 2000-10-18\n",
      "\tDescription -> Expressing artistic visions through the magic of algorithms.\n",
      "---Processing Book---\n",
      "\tAuthor -> Wu, Christopher\n",
      "\tTitle -> Code Carnival\n",
      "\tGenre -> Entertainment\n",
      "\tPrice -> 31.75\n",
      "\tPublishDate -> 2008-06-30\n",
      "\tDescription -> A carnival of coding wonders and entertainment.\n",
      "---Processing Book---\n",
      "\tAuthor -> Nguyen, Emily\n",
      "\tTitle -> Quantum Quilt\n",
      "\tGenre -> Crafts\n",
      "\tPrice -> 24.50\n",
      "\tPublishDate -> 2009-12-15\n",
      "\tDescription -> Creating a quilt of quantum patterns with code.\n",
      "---Processing Book---\n",
      "\tAuthor -> Gomez, Daniel\n",
      "\tTitle -> Code Chronicles\n",
      "\tGenre -> Historical Fiction\n",
      "\tPrice -> 29.00\n",
      "\tPublishDate -> 2005-09-22\n",
      "\tDescription -> An historical journey through the chronicles of code.\n",
      "CPU times: total: 0 ns\n",
      "Wall time: 3.16 ms\n"
     ]
    }
   ],
   "source": [
    "%%time \n",
    "\n",
    "print('********Procesando todos los libros********')\n",
    "# recorro las etiquetas <Book>\n",
    "for archivoXML in root.findall('Book'):\n",
    "    print('---Processing Book---')\n",
    "    # Recorro las sub-etiquetas de <Book>\n",
    "    for etiqueta in archivoXML:\n",
    "        print(f'\\t{etiqueta.tag} -> {etiqueta.text}')"
   ]
  },
  {
   "cell_type": "markdown",
   "metadata": {},
   "source": [
    "- **Metodologia 2**"
   ]
  },
  {
   "cell_type": "code",
   "execution_count": 5,
   "metadata": {},
   "outputs": [
    {
     "name": "stdout",
     "output_type": "stream",
     "text": [
      "********Procesando todos los libros********\n",
      "---Processing Book---\n",
      "\tAuthor -> Garghentini, Davide\n",
      "\tTitle -> XML Developer's Guide\n",
      "\tGenre -> Computer\n",
      "\tPrice -> 44.95\n",
      "\tPublishDate -> 2000-10-01\n",
      "\tDescription -> An in-depth look at creating applications\n",
      "      with XML.\n",
      "---Processing Book---\n",
      "\tAuthor -> Garcia, Debra\n",
      "\tTitle -> Midnight Rain\n",
      "\tGenre -> Fantasy\n",
      "\tPrice -> 5.95\n",
      "\tPublishDate -> 2000-12-16\n",
      "\tDescription -> A former architect battles corporate zombies,\n",
      "      an evil sorceress, and her own childhood to become queen\n",
      "      of the world.\n",
      "---Processing Book---\n",
      "\tAuthor -> Smith, John\n",
      "\tTitle -> The Adventures of Data\n",
      "\tGenre -> Adventure\n",
      "\tPrice -> 29.99\n",
      "\tPublishDate -> 2002-05-15\n",
      "\tDescription -> A thrilling journey through the world of data.\n",
      "---Processing Book---\n",
      "\tAuthor -> Johnson, Emily\n",
      "\tTitle -> Code Chronicles\n",
      "\tGenre -> Science Fiction\n",
      "\tPrice -> 12.50\n",
      "\tPublishDate -> 2001-08-20\n",
      "\tDescription -> An epic tale of coding and discovery.\n",
      "---Processing Book---\n",
      "\tAuthor -> Martin, David\n",
      "\tTitle -> Data Dilemma\n",
      "\tGenre -> Mystery\n",
      "\tPrice -> 19.95\n",
      "\tPublishDate -> 2004-03-10\n",
      "\tDescription -> Solving mysteries in the data-driven world.\n",
      "---Processing Book---\n",
      "\tAuthor -> Chang, Lisa\n",
      "\tTitle -> Byte Busters\n",
      "\tGenre -> Action\n",
      "\tPrice -> 15.75\n",
      "\tPublishDate -> 2003-11-28\n",
      "\tDescription -> A team of programmers on a mission to save the digital realm.\n",
      "---Processing Book---\n",
      "\tAuthor -> Anderson, Michael\n",
      "\tTitle -> Quantum Coding\n",
      "\tGenre -> Science Fiction\n",
      "\tPrice -> 22.00\n",
      "\tPublishDate -> 2005-06-05\n",
      "\tDescription -> Exploring the intersection of quantum physics and coding.\n",
      "---Processing Book---\n",
      "\tAuthor -> Robinson, Sarah\n",
      "\tTitle -> Cybernetic Dreams\n",
      "\tGenre -> Cyberpunk\n",
      "\tPrice -> 18.50\n",
      "\tPublishDate -> 2006-09-18\n",
      "\tDescription -> A futuristic journey into the realm of cybernetics and dreams.\n",
      "---Processing Book---\n",
      "\tAuthor -> Williams, Brian\n",
      "\tTitle -> The Code Conundrum\n",
      "\tGenre -> Mystery\n",
      "\tPrice -> 14.99\n",
      "\tPublishDate -> 2002-12-03\n",
      "\tDescription -> Unraveling the enigma of a mysterious code.\n",
      "---Processing Book---\n",
      "\tAuthor -> Johnson, Karen\n",
      "\tTitle -> Virtual Realities\n",
      "\tGenre -> Virtual Reality\n",
      "\tPrice -> 25.50\n",
      "\tPublishDate -> 2004-08-22\n",
      "\tDescription -> Immersive experiences in the world of virtual realities.\n",
      "---Processing Book---\n",
      "\tAuthor -> Miller, Christopher\n",
      "\tTitle -> The Code Quest\n",
      "\tGenre -> Quest\n",
      "\tPrice -> 34.99\n",
      "\tPublishDate -> 2008-07-12\n",
      "\tDescription -> An epic journey to uncover the ultimate code.\n",
      "---Processing Book---\n",
      "\tAuthor -> Lee, Samantha\n",
      "\tTitle -> Bits and Pieces\n",
      "\tGenre -> Puzzle\n",
      "\tPrice -> 17.50\n",
      "\tPublishDate -> 2009-04-25\n",
      "\tDescription -> Putting together the pieces of a mysterious digital puzzle.\n",
      "---Processing Book---\n",
      "\tAuthor -> Nguyen, Peter\n",
      "\tTitle -> Algorithmic Symphony\n",
      "\tGenre -> Music\n",
      "\tPrice -> 21.95\n",
      "\tPublishDate -> 2002-11-08\n",
      "\tDescription -> Exploring the harmonies of algorithms in music composition.\n",
      "---Processing Book---\n",
      "\tAuthor -> Clark, Rachel\n",
      "\tTitle -> The Quantum Quandary\n",
      "\tGenre -> Science Fiction\n",
      "\tPrice -> 19.75\n",
      "\tPublishDate -> 2003-06-30\n",
      "\tDescription -> Navigating the perplexities of quantum programming.\n",
      "---Processing Book---\n",
      "\tAuthor -> Gomez, Carlos\n",
      "\tTitle -> Virtual Visions\n",
      "\tGenre -> Virtual Reality\n",
      "\tPrice -> 23.00\n",
      "\tPublishDate -> 2004-09-14\n",
      "\tDescription -> Immersive journeys through virtual landscapes and visions.\n",
      "---Processing Book---\n",
      "\tAuthor -> Wong, Michelle\n",
      "\tTitle -> Code Artistry\n",
      "\tGenre -> Art\n",
      "\tPrice -> 27.50\n",
      "\tPublishDate -> 2008-12-22\n",
      "\tDescription -> Expressing creativity through the artistry of code.\n",
      "---Processing Book---\n",
      "\tAuthor -> Anderson, Olivia\n",
      "\tTitle -> The Coding Odyssey\n",
      "\tGenre -> Adventure\n",
      "\tPrice -> 31.99\n",
      "\tPublishDate -> 2015-08-18\n",
      "\tDescription -> An adventurous journey through the coding realm.\n",
      "---Processing Book---\n",
      "\tAuthor -> Smith, Matthew\n",
      "\tTitle -> Data Detective\n",
      "\tGenre -> Mystery\n",
      "\tPrice -> 16.50\n",
      "\tPublishDate -> 2000-03-05\n",
      "\tDescription -> Solving data mysteries with a touch of detective work.\n",
      "---Processing Book---\n",
      "\tAuthor -> Chang, Daniel\n",
      "\tTitle -> Pixel Perfection\n",
      "\tGenre -> Design\n",
      "\tPrice -> 24.95\n",
      "\tPublishDate -> 2001-10-29\n",
      "\tDescription -> Creating visually stunning digital experiences with pixel perfection.\n",
      "---Processing Book---\n",
      "\tAuthor -> Nguyen, Jessica\n",
      "\tTitle -> Code and Coffee\n",
      "\tGenre -> Humor\n",
      "\tPrice -> 14.75\n",
      "\tPublishDate -> 2005-06-12\n",
      "\tDescription -> A humorous look at the daily life of a coder fueled by coffee.\n",
      "---Processing Book---\n",
      "\tAuthor -> Wu, Michael\n",
      "\tTitle -> The Algorithmic Garden\n",
      "\tGenre -> Gardening\n",
      "\tPrice -> 20.00\n",
      "\tPublishDate -> 2006-12-03\n",
      "\tDescription -> Cultivating an algorithmic garden of ideas and creativity.\n",
      "---Processing Book---\n",
      "\tAuthor -> Kim, Sophia\n",
      "\tTitle -> Code Canvas\n",
      "\tGenre -> Art\n",
      "\tPrice -> 26.50\n",
      "\tPublishDate -> 2007-09-15\n",
      "\tDescription -> Exploring the art of code on a digital canvas.\n",
      "---Processing Book---\n",
      "\tAuthor -> Johnson, Ethan\n",
      "\tTitle -> Code Symphony\n",
      "\tGenre -> Music\n",
      "\tPrice -> 28.99\n",
      "\tPublishDate -> 2000-04-20\n",
      "\tDescription -> Exploring the harmonious world of code and music.\n",
      "---Processing Book---\n",
      "\tAuthor -> Williams, Megan\n",
      "\tTitle -> The Data Enigma\n",
      "\tGenre -> Mystery\n",
      "\tPrice -> 18.50\n",
      "\tPublishDate -> 2000-01-08\n",
      "\tDescription -> Unraveling the mysteries hidden in vast datasets.\n",
      "---Processing Book---\n",
      "\tAuthor -> Chen, Brian\n",
      "\tTitle -> Virtual Realms\n",
      "\tGenre -> Virtual Reality\n",
      "\tPrice -> 23.95\n",
      "\tPublishDate -> 2004-06-25\n",
      "\tDescription -> Embarking on virtual journeys through immersive realms.\n",
      "---Processing Book---\n",
      "\tAuthor -> Lee, Stephanie\n",
      "\tTitle -> Algorithmic Adventures\n",
      "\tGenre -> Adventure\n",
      "\tPrice -> 32.75\n",
      "\tPublishDate -> 2000-03-12\n",
      "\tDescription -> An adventurous exploration of algorithmic landscapes.\n",
      "---Processing Book---\n",
      "\tAuthor -> Garcia, Carlos\n",
      "\tTitle -> The Code Conductor\n",
      "\tGenre -> Music\n",
      "\tPrice -> 25.00\n",
      "\tPublishDate -> 2002-09-18\n",
      "\tDescription -> Conducting symphonies with the power of code.\n",
      "---Processing Book---\n",
      "\tAuthor -> Wu, Emily\n",
      "\tTitle -> The Quantum Quilt\n",
      "\tGenre -> Crafts\n",
      "\tPrice -> 21.50\n",
      "\tPublishDate -> 2003-12-01\n",
      "\tDescription -> Creating a quilt of quantum patterns with code.\n",
      "---Processing Book---\n",
      "\tAuthor -> Miller, Jessica\n",
      "\tTitle -> The Coding Quest\n",
      "\tGenre -> Adventure\n",
      "\tPrice -> 27.99\n",
      "\tPublishDate -> 2006-05-15\n",
      "\tDescription -> An adventurous quest through the coding landscape.\n",
      "---Processing Book---\n",
      "\tAuthor -> Chen, Kevin\n",
      "\tTitle -> Data Dystopia\n",
      "\tGenre -> Dystopian\n",
      "\tPrice -> 21.50\n",
      "\tPublishDate -> 2005-02-08\n",
      "\tDescription -> Exploring a dystopian world ruled by data.\n",
      "---Processing Book---\n",
      "\tAuthor -> Williams, Rachel\n",
      "\tTitle -> Byte Ballet\n",
      "\tGenre -> Art\n",
      "\tPrice -> 19.95\n",
      "\tPublishDate -> 2004-09-22\n",
      "\tDescription -> Dancing through the world of code and artistry.\n",
      "---Processing Book---\n",
      "\tAuthor -> Lee, Christopher\n",
      "\tTitle -> The Quantum Quandary\n",
      "\tGenre -> Science Fiction\n",
      "\tPrice -> 24.75\n",
      "\tPublishDate -> 2005-06-12\n",
      "\tDescription -> Navigating the enigmas of quantum programming.\n",
      "---Processing Book---\n",
      "\tAuthor -> Nguyen, Emily\n",
      "\tTitle -> Code Canvas\n",
      "\tGenre -> Art\n",
      "\tPrice -> 29.00\n",
      "\tPublishDate -> 2000-11-25\n",
      "\tDescription -> Expressing creativity on a digital canvas through code.\n",
      "---Processing Book---\n",
      "\tAuthor -> Wong, Daniel\n",
      "\tTitle -> Virtual Vortex\n",
      "\tGenre -> Virtual Reality\n",
      "\tPrice -> 26.50\n",
      "\tPublishDate -> 2010-08-18\n",
      "\tDescription -> Getting lost in the immersive vortex of virtual reality.\n",
      "---Processing Book---\n",
      "\tAuthor -> Clark, Olivia\n",
      "\tTitle -> Code Chronicles\n",
      "\tGenre -> Science Fiction\n",
      "\tPrice -> 22.99\n",
      "\tPublishDate -> 2009-04-05\n",
      "\tDescription -> An epic journey through the chronicles of code.\n",
      "---Processing Book---\n",
      "\tAuthor -> Miller, Daniel\n",
      "\tTitle -> Data Delight\n",
      "\tGenre -> Cookbook\n",
      "\tPrice -> 18.50\n",
      "\tPublishDate -> 2012-01-28\n",
      "\tDescription -> Cooking up delightful recipes with the magic of data.\n",
      "---Processing Book---\n",
      "\tAuthor -> Chen, Sarah\n",
      "\tTitle -> Algorithmic Adventures\n",
      "\tGenre -> Adventure\n",
      "\tPrice -> 26.95\n",
      "\tPublishDate -> 2007-10-15\n",
      "\tDescription -> An adventurous exploration of algorithmic landscapes.\n",
      "---Processing Book---\n",
      "\tAuthor -> Williams, Ethan\n",
      "\tTitle -> The Code Conductor\n",
      "\tGenre -> Music\n",
      "\tPrice -> 31.75\n",
      "\tPublishDate -> 2008-06-02\n",
      "\tDescription -> Conducting symphonies with the power of code.\n",
      "---Processing Book---\n",
      "\tAuthor -> Gomez, Mia\n",
      "\tTitle -> Quantum Quilt\n",
      "\tGenre -> Crafts\n",
      "\tPrice -> 20.50\n",
      "\tPublishDate -> 2006-12-19\n",
      "\tDescription -> Creating a quilt of quantum patterns with code.\n",
      "---Processing Book---\n",
      "\tAuthor -> Lee, Andrew\n",
      "\tTitle -> The Art of Code\n",
      "\tGenre -> Art\n",
      "\tPrice -> 28.00\n",
      "\tPublishDate -> 2004-09-10\n",
      "\tDescription -> Mastering the artistry of code in creative endeavors.\n",
      "---Processing Book---\n",
      "\tAuthor -> Smith, Olivia\n",
      "\tTitle -> The Coding Saga\n",
      "\tGenre -> Fantasy\n",
      "\tPrice -> 24.99\n",
      "\tPublishDate -> 2006-08-14\n",
      "\tDescription -> An epic fantasy saga set in the world of coding.\n",
      "---Processing Book---\n",
      "\tAuthor -> Chang, Brian\n",
      "\tTitle -> Data Dynamics\n",
      "\tGenre -> Science\n",
      "\tPrice -> 19.50\n",
      "\tPublishDate -> 2007-04-01\n",
      "\tDescription -> Exploring the dynamic world of data in science.\n",
      "---Processing Book---\n",
      "\tAuthor -> Lee, Emma\n",
      "\tTitle -> Code Carnival\n",
      "\tGenre -> Entertainment\n",
      "\tPrice -> 29.95\n",
      "\tPublishDate -> 2000-11-08\n",
      "\tDescription -> A carnival of coding wonders and entertainment.\n",
      "---Processing Book---\n",
      "\tAuthor -> Nguyen, Christopher\n",
      "\tTitle -> The Algorithmic Garden\n",
      "\tGenre -> Gardening\n",
      "\tPrice -> 25.75\n",
      "\tPublishDate -> 2010-06-20\n",
      "\tDescription -> Cultivating an algorithmic garden of ideas and creativity.\n",
      "---Processing Book---\n",
      "\tAuthor -> Wu, Sophia\n",
      "\tTitle -> Byte Bliss\n",
      "\tGenre -> Self-Help\n",
      "\tPrice -> 21.00\n",
      "\tPublishDate -> 2011-12-12\n",
      "\tDescription -> Finding bliss and balance through the bytes of life.\n",
      "---Processing Book---\n",
      "\tAuthor -> Clark, Daniel\n",
      "\tTitle -> Virtual Voyages\n",
      "\tGenre -> Virtual Reality\n",
      "\tPrice -> 27.50\n",
      "\tPublishDate -> 2006-09-25\n",
      "\tDescription -> Embarking on virtual voyages in immersive realms.\n",
      "---Processing Book---\n",
      "\tAuthor -> Wong, Olivia\n",
      "\tTitle -> The Code Odyssey\n",
      "\tGenre -> Adventure\n",
      "\tPrice -> 26.99\n",
      "\tPublishDate -> 2003-04-10\n",
      "\tDescription -> An odyssey through the diverse realms of coding.\n",
      "---Processing Book---\n",
      "\tAuthor -> Miller, Ethan\n",
      "\tTitle -> Data Dreams\n",
      "\tGenre -> Fantasy\n",
      "\tPrice -> 18.50\n",
      "\tPublishDate -> 2000-01-05\n",
      "\tDescription -> Exploring the fantastical dreams woven in the fabric of data.\n",
      "---Processing Book---\n",
      "\tAuthor -> Lee, Mia\n",
      "\tTitle -> Algorithmic Artistry\n",
      "\tGenre -> Art\n",
      "\tPrice -> 23.95\n",
      "\tPublishDate -> 2000-10-18\n",
      "\tDescription -> Expressing artistic visions through the magic of algorithms.\n",
      "---Processing Book---\n",
      "\tAuthor -> Chen, Brian\n",
      "\tTitle -> Code Carnival\n",
      "\tGenre -> Entertainment\n",
      "\tPrice -> 29.75\n",
      "\tPublishDate -> 2005-06-30\n",
      "\tDescription -> A carnival of coding wonders and entertainment.\n",
      "---Processing Book---\n",
      "\tAuthor -> Nguyen, Emily\n",
      "\tTitle -> The Quantum Quilt\n",
      "\tGenre -> Crafts\n",
      "\tPrice -> 22.50\n",
      "\tPublishDate -> 2008-12-15\n",
      "\tDescription -> Creating a quilt of quantum patterns with code.\n",
      "---Processing Book---\n",
      "\tAuthor -> Gomez, Christopher\n",
      "\tTitle -> Code Chronicles\n",
      "\tGenre -> Science Fiction\n",
      "\tPrice -> 27.00\n",
      "\tPublishDate -> 2008-09-22\n",
      "\tDescription -> An epic journey through the chronicles of code.\n",
      "---Processing Book---\n",
      "\tAuthor -> Smith, Sophia\n",
      "\tTitle -> Code Quest\n",
      "\tGenre -> Adventure\n",
      "\tPrice -> 25.99\n",
      "\tPublishDate -> 2001-04-12\n",
      "\tDescription -> Embarking on an adventurous quest through the coding landscape.\n",
      "---Processing Book---\n",
      "\tAuthor -> Chang, Daniel\n",
      "\tTitle -> Data Dazzle\n",
      "\tGenre -> Art\n",
      "\tPrice -> 20.50\n",
      "\tPublishDate -> 2002-01-28\n",
      "\tDescription -> Dazzling the world with the artistry of data.\n",
      "---Processing Book---\n",
      "\tAuthor -> Lee, Mia\n",
      "\tTitle -> Algorithmic Adventures\n",
      "\tGenre -> Adventure\n",
      "\tPrice -> 28.95\n",
      "\tPublishDate -> 2003-10-15\n",
      "\tDescription -> An adventurous exploration of algorithmic landscapes.\n",
      "---Processing Book---\n",
      "\tAuthor -> Williams, Ethan\n",
      "\tTitle -> The Code Maestro\n",
      "\tGenre -> Music\n",
      "\tPrice -> 33.75\n",
      "\tPublishDate -> 2005-06-20\n",
      "\tDescription -> Mastering the art of conducting symphonies with code.\n",
      "---Processing Book---\n",
      "\tAuthor -> Gomez, Olivia\n",
      "\tTitle -> Quantum Quilting\n",
      "\tGenre -> Crafts\n",
      "\tPrice -> 19.50\n",
      "\tPublishDate -> 2006-12-10\n",
      "\tDescription -> Weaving quantum patterns into a quilt of creative code.\n",
      "---Processing Book---\n",
      "\tAuthor -> Clark, Christopher\n",
      "\tTitle -> Virtual Voyages\n",
      "\tGenre -> Virtual Reality\n",
      "\tPrice -> 26.00\n",
      "\tPublishDate -> 2009-09-25\n",
      "\tDescription -> Embarking on virtual voyages in immersive realms.\n",
      "---Processing Book---\n",
      "\tAuthor -> Miller, Olivia\n",
      "\tTitle -> The Coding Chronicles\n",
      "\tGenre -> Fantasy\n",
      "\tPrice -> 28.99\n",
      "\tPublishDate -> 2009-04-15\n",
      "\tDescription -> An epic fantasy chronicling the world of coding.\n",
      "---Processing Book---\n",
      "\tAuthor -> Chang, Brian\n",
      "\tTitle -> Data Dreamscape\n",
      "\tGenre -> Science Fiction\n",
      "\tPrice -> 22.50\n",
      "\tPublishDate -> 2007-01-08\n",
      "\tDescription -> Exploring dreams and realities through the lens of data.\n",
      "---Processing Book---\n",
      "\tAuthor -> Lee, Emma\n",
      "\tTitle -> Algorithmic Artistry\n",
      "\tGenre -> Art\n",
      "\tPrice -> 26.95\n",
      "\tPublishDate -> 2000-10-18\n",
      "\tDescription -> Expressing artistic visions through the magic of algorithms.\n",
      "---Processing Book---\n",
      "\tAuthor -> Wu, Christopher\n",
      "\tTitle -> Code Carnival\n",
      "\tGenre -> Entertainment\n",
      "\tPrice -> 31.75\n",
      "\tPublishDate -> 2008-06-30\n",
      "\tDescription -> A carnival of coding wonders and entertainment.\n",
      "---Processing Book---\n",
      "\tAuthor -> Nguyen, Emily\n",
      "\tTitle -> Quantum Quilt\n",
      "\tGenre -> Crafts\n",
      "\tPrice -> 24.50\n",
      "\tPublishDate -> 2009-12-15\n",
      "\tDescription -> Creating a quilt of quantum patterns with code.\n",
      "---Processing Book---\n",
      "\tAuthor -> Gomez, Daniel\n",
      "\tTitle -> Code Chronicles\n",
      "\tGenre -> Historical Fiction\n",
      "\tPrice -> 29.00\n",
      "\tPublishDate -> 2005-09-22\n",
      "\tDescription -> An historical journey through the chronicles of code.\n",
      "CPU times: total: 0 ns\n",
      "Wall time: 497 µs\n"
     ]
    }
   ],
   "source": [
    "%%time \n",
    "\n",
    "print('********Procesando todos los libros********')\n",
    "# recorro las etiquetas <Book>\n",
    "for archivoXML in root.findall('Book'):\n",
    "    print('---Processing Book---')\n",
    "    author = archivoXML.find('Author').text\n",
    "    title = archivoXML.find('Title').text\n",
    "    genre = archivoXML.find('Genre').text\n",
    "    price = archivoXML.find('Price').text\n",
    "    publish_date = archivoXML.find('PublishDate').text\n",
    "    description = archivoXML.find('Description').text\n",
    "    print(f'\\tAuthor -> {author}\\n\\tTitle -> {title}\\n\\tGenre -> {genre}\\n\\tPrice -> {price}\\n\\tPublishDate -> {publish_date}\\n\\tDescription -> {description}')\n",
    "\n"
   ]
  },
  {
   "cell_type": "markdown",
   "metadata": {},
   "source": [
    "### A través del archivo XML genera un Dataframe que contendrá cada nodo hijo del XML como nombre de columna del dataframe."
   ]
  },
  {
   "cell_type": "code",
   "execution_count": 6,
   "metadata": {},
   "outputs": [],
   "source": [
    "import pandas as pd"
   ]
  },
  {
   "cell_type": "code",
   "execution_count": 12,
   "metadata": {},
   "outputs": [
    {
     "data": {
      "text/html": [
       "<div>\n",
       "<style scoped>\n",
       "    .dataframe tbody tr th:only-of-type {\n",
       "        vertical-align: middle;\n",
       "    }\n",
       "\n",
       "    .dataframe tbody tr th {\n",
       "        vertical-align: top;\n",
       "    }\n",
       "\n",
       "    .dataframe thead th {\n",
       "        text-align: right;\n",
       "    }\n",
       "</style>\n",
       "<table border=\"1\" class=\"dataframe\">\n",
       "  <thead>\n",
       "    <tr style=\"text-align: right;\">\n",
       "      <th></th>\n",
       "      <th>Author</th>\n",
       "      <th>Title</th>\n",
       "      <th>Genre</th>\n",
       "      <th>Price</th>\n",
       "      <th>PublishDate</th>\n",
       "      <th>Description</th>\n",
       "    </tr>\n",
       "  </thead>\n",
       "  <tbody>\n",
       "    <tr>\n",
       "      <th>0</th>\n",
       "      <td>Garghentini, Davide</td>\n",
       "      <td>XML Developer's Guide</td>\n",
       "      <td>Computer</td>\n",
       "      <td>44.95</td>\n",
       "      <td>2000-10-01</td>\n",
       "      <td>An in-depth look at creating applications\\n   ...</td>\n",
       "    </tr>\n",
       "    <tr>\n",
       "      <th>1</th>\n",
       "      <td>Garcia, Debra</td>\n",
       "      <td>Midnight Rain</td>\n",
       "      <td>Fantasy</td>\n",
       "      <td>5.95</td>\n",
       "      <td>2000-12-16</td>\n",
       "      <td>A former architect battles corporate zombies,\\...</td>\n",
       "    </tr>\n",
       "    <tr>\n",
       "      <th>2</th>\n",
       "      <td>Smith, John</td>\n",
       "      <td>The Adventures of Data</td>\n",
       "      <td>Adventure</td>\n",
       "      <td>29.99</td>\n",
       "      <td>2002-05-15</td>\n",
       "      <td>A thrilling journey through the world of data.</td>\n",
       "    </tr>\n",
       "    <tr>\n",
       "      <th>3</th>\n",
       "      <td>Johnson, Emily</td>\n",
       "      <td>Code Chronicles</td>\n",
       "      <td>Science Fiction</td>\n",
       "      <td>12.50</td>\n",
       "      <td>2001-08-20</td>\n",
       "      <td>An epic tale of coding and discovery.</td>\n",
       "    </tr>\n",
       "    <tr>\n",
       "      <th>4</th>\n",
       "      <td>Martin, David</td>\n",
       "      <td>Data Dilemma</td>\n",
       "      <td>Mystery</td>\n",
       "      <td>19.95</td>\n",
       "      <td>2004-03-10</td>\n",
       "      <td>Solving mysteries in the data-driven world.</td>\n",
       "    </tr>\n",
       "    <tr>\n",
       "      <th>...</th>\n",
       "      <td>...</td>\n",
       "      <td>...</td>\n",
       "      <td>...</td>\n",
       "      <td>...</td>\n",
       "      <td>...</td>\n",
       "      <td>...</td>\n",
       "    </tr>\n",
       "    <tr>\n",
       "      <th>59</th>\n",
       "      <td>Chang, Brian</td>\n",
       "      <td>Data Dreamscape</td>\n",
       "      <td>Science Fiction</td>\n",
       "      <td>22.50</td>\n",
       "      <td>2007-01-08</td>\n",
       "      <td>Exploring dreams and realities through the len...</td>\n",
       "    </tr>\n",
       "    <tr>\n",
       "      <th>60</th>\n",
       "      <td>Lee, Emma</td>\n",
       "      <td>Algorithmic Artistry</td>\n",
       "      <td>Art</td>\n",
       "      <td>26.95</td>\n",
       "      <td>2000-10-18</td>\n",
       "      <td>Expressing artistic visions through the magic ...</td>\n",
       "    </tr>\n",
       "    <tr>\n",
       "      <th>61</th>\n",
       "      <td>Wu, Christopher</td>\n",
       "      <td>Code Carnival</td>\n",
       "      <td>Entertainment</td>\n",
       "      <td>31.75</td>\n",
       "      <td>2008-06-30</td>\n",
       "      <td>A carnival of coding wonders and entertainment.</td>\n",
       "    </tr>\n",
       "    <tr>\n",
       "      <th>62</th>\n",
       "      <td>Nguyen, Emily</td>\n",
       "      <td>Quantum Quilt</td>\n",
       "      <td>Crafts</td>\n",
       "      <td>24.50</td>\n",
       "      <td>2009-12-15</td>\n",
       "      <td>Creating a quilt of quantum patterns with code.</td>\n",
       "    </tr>\n",
       "    <tr>\n",
       "      <th>63</th>\n",
       "      <td>Gomez, Daniel</td>\n",
       "      <td>Code Chronicles</td>\n",
       "      <td>Historical Fiction</td>\n",
       "      <td>29.00</td>\n",
       "      <td>2005-09-22</td>\n",
       "      <td>An historical journey through the chronicles o...</td>\n",
       "    </tr>\n",
       "  </tbody>\n",
       "</table>\n",
       "<p>64 rows × 6 columns</p>\n",
       "</div>"
      ],
      "text/plain": [
       "                 Author                   Title               Genre  Price  \\\n",
       "0   Garghentini, Davide   XML Developer's Guide            Computer  44.95   \n",
       "1         Garcia, Debra           Midnight Rain             Fantasy   5.95   \n",
       "2           Smith, John  The Adventures of Data           Adventure  29.99   \n",
       "3        Johnson, Emily         Code Chronicles     Science Fiction  12.50   \n",
       "4         Martin, David            Data Dilemma             Mystery  19.95   \n",
       "..                  ...                     ...                 ...    ...   \n",
       "59         Chang, Brian         Data Dreamscape     Science Fiction  22.50   \n",
       "60            Lee, Emma    Algorithmic Artistry                 Art  26.95   \n",
       "61      Wu, Christopher           Code Carnival       Entertainment  31.75   \n",
       "62        Nguyen, Emily           Quantum Quilt              Crafts  24.50   \n",
       "63        Gomez, Daniel         Code Chronicles  Historical Fiction  29.00   \n",
       "\n",
       "   PublishDate                                        Description  \n",
       "0   2000-10-01  An in-depth look at creating applications\\n   ...  \n",
       "1   2000-12-16  A former architect battles corporate zombies,\\...  \n",
       "2   2002-05-15     A thrilling journey through the world of data.  \n",
       "3   2001-08-20              An epic tale of coding and discovery.  \n",
       "4   2004-03-10        Solving mysteries in the data-driven world.  \n",
       "..         ...                                                ...  \n",
       "59  2007-01-08  Exploring dreams and realities through the len...  \n",
       "60  2000-10-18  Expressing artistic visions through the magic ...  \n",
       "61  2008-06-30    A carnival of coding wonders and entertainment.  \n",
       "62  2009-12-15    Creating a quilt of quantum patterns with code.  \n",
       "63  2005-09-22  An historical journey through the chronicles o...  \n",
       "\n",
       "[64 rows x 6 columns]"
      ]
     },
     "execution_count": 12,
     "metadata": {},
     "output_type": "execute_result"
    }
   ],
   "source": [
    "# Creo una lista para almacenar cada diccionario\n",
    "list_df = []\n",
    "# recorro las etiquetas <Book>\n",
    "for archivoXML in root.findall('Book'):\n",
    "    # Creo un diccionario donde almacenare cada sub-etiqueta de <Book>\n",
    "    dict_book = {}\n",
    "    # Recorro las sub-etiquetas de <Book>\n",
    "    for etiqueta in archivoXML:\n",
    "        # Las guardo dentro del diccionario\n",
    "        dict_book.update({etiqueta.tag : etiqueta.text})\n",
    "\n",
    "    # Alamceno el diccionario en la lista\n",
    "    list_df.append(dict_book)\n",
    "\n",
    "# Paso diccionarios de filas a pd.DataFrame \n",
    "df = pd.DataFrame(list_df)\n",
    "df"
   ]
  },
  {
   "cell_type": "markdown",
   "metadata": {},
   "source": [
    "### Transformacion de las columnas de precio y fecha de publicación a numérico y datetime"
   ]
  },
  {
   "cell_type": "markdown",
   "metadata": {},
   "source": [
    "Transformacion de precio de str a float:\n",
    "- Metodologia 1:"
   ]
  },
  {
   "cell_type": "code",
   "execution_count": 8,
   "metadata": {},
   "outputs": [
    {
     "name": "stdout",
     "output_type": "stream",
     "text": [
      " --- Antes de la conversion --- \n",
      "object\n",
      "<class 'str'>\n",
      " --- Despues de la conversion --- \n",
      "float64\n",
      "<class 'numpy.float64'>\n"
     ]
    },
    {
     "data": {
      "text/plain": [
       "Author          object\n",
       "Title           object\n",
       "Genre           object\n",
       "Price          float64\n",
       "PublishDate     object\n",
       "Description     object\n",
       "dtype: object"
      ]
     },
     "execution_count": 8,
     "metadata": {},
     "output_type": "execute_result"
    }
   ],
   "source": [
    "# Consultamos de que tipo es la columna 'Price'\n",
    "print(' --- Antes de la conversion --- ')\n",
    "print(df['Price'].dtypes) \n",
    "print(type(df['Price'][0]))\n",
    "\n",
    "df['Price'] = pd.to_numeric(df['Price'])\n",
    "\n",
    "print(' --- Despues de la conversion --- ')\n",
    "print(df['Price'].dtypes) \n",
    "print(type(df['Price'][0]))\n",
    "\n",
    "df.dtypes"
   ]
  },
  {
   "cell_type": "markdown",
   "metadata": {},
   "source": [
    "- Metodologia 2:"
   ]
  },
  {
   "cell_type": "code",
   "execution_count": 13,
   "metadata": {},
   "outputs": [
    {
     "name": "stdout",
     "output_type": "stream",
     "text": [
      " --- Antes de la conversion --- \n",
      "<class 'str'>\n",
      " --- Despues de la conversion --- \n",
      "<class 'numpy.float64'>\n"
     ]
    },
    {
     "data": {
      "text/plain": [
       "Author          object\n",
       "Title           object\n",
       "Genre           object\n",
       "Price          float64\n",
       "PublishDate     object\n",
       "Description     object\n",
       "dtype: object"
      ]
     },
     "execution_count": 13,
     "metadata": {},
     "output_type": "execute_result"
    }
   ],
   "source": [
    "# Consultamos de que tipo es la columna 'Price'\n",
    "print(' --- Antes de la conversion --- ')\n",
    "print(type(df['Price'][0]))\n",
    "\n",
    "df['Price'] = df['Price'].astype(float)\n",
    "\n",
    "print(' --- Despues de la conversion --- ')\n",
    "print(type(df['Price'][0]))\n",
    "\n",
    "df.dtypes"
   ]
  },
  {
   "cell_type": "markdown",
   "metadata": {},
   "source": [
    "Transformacion de precio de str a datetime:\n",
    "- Metodologia 1:"
   ]
  },
  {
   "cell_type": "code",
   "execution_count": 11,
   "metadata": {},
   "outputs": [
    {
     "name": "stdout",
     "output_type": "stream",
     "text": [
      " --- Antes de la conversion --- \n",
      "<class 'str'>\n",
      " --- Despues de la conversion --- \n",
      "<class 'pandas._libs.tslibs.timestamps.Timestamp'>\n"
     ]
    },
    {
     "data": {
      "text/plain": [
       "Author                 object\n",
       "Title                  object\n",
       "Genre                  object\n",
       "Price                 float64\n",
       "PublishDate    datetime64[ns]\n",
       "Description            object\n",
       "dtype: object"
      ]
     },
     "execution_count": 11,
     "metadata": {},
     "output_type": "execute_result"
    }
   ],
   "source": [
    "# Consultamos de que tipo es la columna 'PublishDate'\n",
    "print(' --- Antes de la conversion --- ')\n",
    "print(type(df['PublishDate'][0]))\n",
    "\n",
    "df['PublishDate'] = pd.to_datetime(df['PublishDate'])\n",
    "\n",
    "print(' --- Despues de la conversion --- ')\n",
    "print(type(df['PublishDate'][0]))\n",
    "\n",
    "df.dtypes\n"
   ]
  },
  {
   "cell_type": "markdown",
   "metadata": {},
   "source": [
    "- Metodologia 2:"
   ]
  },
  {
   "cell_type": "code",
   "execution_count": 14,
   "metadata": {},
   "outputs": [
    {
     "name": "stdout",
     "output_type": "stream",
     "text": [
      " --- Antes de la conversion --- \n",
      "<class 'str'>\n",
      " --- Despues de la conversion --- \n",
      "<class 'pandas._libs.tslibs.timestamps.Timestamp'>\n"
     ]
    },
    {
     "data": {
      "text/plain": [
       "Author                 object\n",
       "Title                  object\n",
       "Genre                  object\n",
       "Price                 float64\n",
       "PublishDate    datetime64[ns]\n",
       "Description            object\n",
       "dtype: object"
      ]
     },
     "execution_count": 14,
     "metadata": {},
     "output_type": "execute_result"
    }
   ],
   "source": [
    "# Consultamos de que tipo es la columna 'PublishDate'\n",
    "print(' --- Antes de la conversion --- ')\n",
    "print(type(df['PublishDate'][0]))\n",
    "\n",
    "df['PublishDate'] = df['PublishDate'].astype('datetime64[ns]')\n",
    "\n",
    "print(' --- Despues de la conversion --- ')\n",
    "print(type(df['PublishDate'][0]))\n",
    "\n",
    "df.dtypes"
   ]
  },
  {
   "cell_type": "markdown",
   "metadata": {},
   "source": [
    "### Visualización de la serie historica del precio de los libros y media del precio de los libros"
   ]
  },
  {
   "cell_type": "code",
   "execution_count": 15,
   "metadata": {},
   "outputs": [],
   "source": [
    "import plotly.graph_objects as go"
   ]
  },
  {
   "cell_type": "code",
   "execution_count": 16,
   "metadata": {},
   "outputs": [
    {
     "data": {
      "text/html": [
       "<div>\n",
       "<style scoped>\n",
       "    .dataframe tbody tr th:only-of-type {\n",
       "        vertical-align: middle;\n",
       "    }\n",
       "\n",
       "    .dataframe tbody tr th {\n",
       "        vertical-align: top;\n",
       "    }\n",
       "\n",
       "    .dataframe thead th {\n",
       "        text-align: right;\n",
       "    }\n",
       "</style>\n",
       "<table border=\"1\" class=\"dataframe\">\n",
       "  <thead>\n",
       "    <tr style=\"text-align: right;\">\n",
       "      <th></th>\n",
       "      <th>Author</th>\n",
       "      <th>Title</th>\n",
       "      <th>Genre</th>\n",
       "      <th>Price</th>\n",
       "      <th>PublishDate</th>\n",
       "      <th>Description</th>\n",
       "    </tr>\n",
       "  </thead>\n",
       "  <tbody>\n",
       "    <tr>\n",
       "      <th>47</th>\n",
       "      <td>Miller, Ethan</td>\n",
       "      <td>Data Dreams</td>\n",
       "      <td>Fantasy</td>\n",
       "      <td>18.50</td>\n",
       "      <td>2000-01-05</td>\n",
       "      <td>Exploring the fantastical dreams woven in the ...</td>\n",
       "    </tr>\n",
       "    <tr>\n",
       "      <th>23</th>\n",
       "      <td>Williams, Megan</td>\n",
       "      <td>The Data Enigma</td>\n",
       "      <td>Mystery</td>\n",
       "      <td>18.50</td>\n",
       "      <td>2000-01-08</td>\n",
       "      <td>Unraveling the mysteries hidden in vast datasets.</td>\n",
       "    </tr>\n",
       "    <tr>\n",
       "      <th>17</th>\n",
       "      <td>Smith, Matthew</td>\n",
       "      <td>Data Detective</td>\n",
       "      <td>Mystery</td>\n",
       "      <td>16.50</td>\n",
       "      <td>2000-03-05</td>\n",
       "      <td>Solving data mysteries with a touch of detecti...</td>\n",
       "    </tr>\n",
       "    <tr>\n",
       "      <th>25</th>\n",
       "      <td>Lee, Stephanie</td>\n",
       "      <td>Algorithmic Adventures</td>\n",
       "      <td>Adventure</td>\n",
       "      <td>32.75</td>\n",
       "      <td>2000-03-12</td>\n",
       "      <td>An adventurous exploration of algorithmic land...</td>\n",
       "    </tr>\n",
       "    <tr>\n",
       "      <th>22</th>\n",
       "      <td>Johnson, Ethan</td>\n",
       "      <td>Code Symphony</td>\n",
       "      <td>Music</td>\n",
       "      <td>28.99</td>\n",
       "      <td>2000-04-20</td>\n",
       "      <td>Exploring the harmonious world of code and music.</td>\n",
       "    </tr>\n",
       "    <tr>\n",
       "      <th>...</th>\n",
       "      <td>...</td>\n",
       "      <td>...</td>\n",
       "      <td>...</td>\n",
       "      <td>...</td>\n",
       "      <td>...</td>\n",
       "      <td>...</td>\n",
       "    </tr>\n",
       "    <tr>\n",
       "      <th>43</th>\n",
       "      <td>Nguyen, Christopher</td>\n",
       "      <td>The Algorithmic Garden</td>\n",
       "      <td>Gardening</td>\n",
       "      <td>25.75</td>\n",
       "      <td>2010-06-20</td>\n",
       "      <td>Cultivating an algorithmic garden of ideas and...</td>\n",
       "    </tr>\n",
       "    <tr>\n",
       "      <th>33</th>\n",
       "      <td>Wong, Daniel</td>\n",
       "      <td>Virtual Vortex</td>\n",
       "      <td>Virtual Reality</td>\n",
       "      <td>26.50</td>\n",
       "      <td>2010-08-18</td>\n",
       "      <td>Getting lost in the immersive vortex of virtua...</td>\n",
       "    </tr>\n",
       "    <tr>\n",
       "      <th>44</th>\n",
       "      <td>Wu, Sophia</td>\n",
       "      <td>Byte Bliss</td>\n",
       "      <td>Self-Help</td>\n",
       "      <td>21.00</td>\n",
       "      <td>2011-12-12</td>\n",
       "      <td>Finding bliss and balance through the bytes of...</td>\n",
       "    </tr>\n",
       "    <tr>\n",
       "      <th>35</th>\n",
       "      <td>Miller, Daniel</td>\n",
       "      <td>Data Delight</td>\n",
       "      <td>Cookbook</td>\n",
       "      <td>18.50</td>\n",
       "      <td>2012-01-28</td>\n",
       "      <td>Cooking up delightful recipes with the magic o...</td>\n",
       "    </tr>\n",
       "    <tr>\n",
       "      <th>16</th>\n",
       "      <td>Anderson, Olivia</td>\n",
       "      <td>The Coding Odyssey</td>\n",
       "      <td>Adventure</td>\n",
       "      <td>31.99</td>\n",
       "      <td>2015-08-18</td>\n",
       "      <td>An adventurous journey through the coding realm.</td>\n",
       "    </tr>\n",
       "  </tbody>\n",
       "</table>\n",
       "<p>64 rows × 6 columns</p>\n",
       "</div>"
      ],
      "text/plain": [
       "                 Author                   Title            Genre  Price  \\\n",
       "47        Miller, Ethan             Data Dreams          Fantasy  18.50   \n",
       "23      Williams, Megan         The Data Enigma          Mystery  18.50   \n",
       "17       Smith, Matthew          Data Detective          Mystery  16.50   \n",
       "25       Lee, Stephanie  Algorithmic Adventures        Adventure  32.75   \n",
       "22       Johnson, Ethan           Code Symphony            Music  28.99   \n",
       "..                  ...                     ...              ...    ...   \n",
       "43  Nguyen, Christopher  The Algorithmic Garden        Gardening  25.75   \n",
       "33         Wong, Daniel          Virtual Vortex  Virtual Reality  26.50   \n",
       "44           Wu, Sophia              Byte Bliss        Self-Help  21.00   \n",
       "35       Miller, Daniel            Data Delight         Cookbook  18.50   \n",
       "16     Anderson, Olivia      The Coding Odyssey        Adventure  31.99   \n",
       "\n",
       "   PublishDate                                        Description  \n",
       "47  2000-01-05  Exploring the fantastical dreams woven in the ...  \n",
       "23  2000-01-08  Unraveling the mysteries hidden in vast datasets.  \n",
       "17  2000-03-05  Solving data mysteries with a touch of detecti...  \n",
       "25  2000-03-12  An adventurous exploration of algorithmic land...  \n",
       "22  2000-04-20  Exploring the harmonious world of code and music.  \n",
       "..         ...                                                ...  \n",
       "43  2010-06-20  Cultivating an algorithmic garden of ideas and...  \n",
       "33  2010-08-18  Getting lost in the immersive vortex of virtua...  \n",
       "44  2011-12-12  Finding bliss and balance through the bytes of...  \n",
       "35  2012-01-28  Cooking up delightful recipes with the magic o...  \n",
       "16  2015-08-18   An adventurous journey through the coding realm.  \n",
       "\n",
       "[64 rows x 6 columns]"
      ]
     },
     "execution_count": 16,
     "metadata": {},
     "output_type": "execute_result"
    }
   ],
   "source": [
    "# Ordeno las fechas en orden cronologipo para que a la hora de hacer la serie historica salgan los valores en orden ya que el año es el valor que se tiene en cuenta en el eje x\n",
    "df = df.sort_values(by='PublishDate')\n",
    "df"
   ]
  },
  {
   "cell_type": "code",
   "execution_count": 17,
   "metadata": {},
   "outputs": [
    {
     "data": {
      "text/html": [
       "<div>\n",
       "<style scoped>\n",
       "    .dataframe tbody tr th:only-of-type {\n",
       "        vertical-align: middle;\n",
       "    }\n",
       "\n",
       "    .dataframe tbody tr th {\n",
       "        vertical-align: top;\n",
       "    }\n",
       "\n",
       "    .dataframe thead th {\n",
       "        text-align: right;\n",
       "    }\n",
       "</style>\n",
       "<table border=\"1\" class=\"dataframe\">\n",
       "  <thead>\n",
       "    <tr style=\"text-align: right;\">\n",
       "      <th></th>\n",
       "      <th>PublishDateMedia</th>\n",
       "      <th>PriceMedia</th>\n",
       "    </tr>\n",
       "  </thead>\n",
       "  <tbody>\n",
       "    <tr>\n",
       "      <th>0</th>\n",
       "      <td>2000</td>\n",
       "      <td>25.09</td>\n",
       "    </tr>\n",
       "    <tr>\n",
       "      <th>1</th>\n",
       "      <td>2001</td>\n",
       "      <td>21.15</td>\n",
       "    </tr>\n",
       "    <tr>\n",
       "      <th>2</th>\n",
       "      <td>2002</td>\n",
       "      <td>22.49</td>\n",
       "    </tr>\n",
       "    <tr>\n",
       "      <th>3</th>\n",
       "      <td>2003</td>\n",
       "      <td>22.59</td>\n",
       "    </tr>\n",
       "    <tr>\n",
       "      <th>4</th>\n",
       "      <td>2004</td>\n",
       "      <td>23.39</td>\n",
       "    </tr>\n",
       "    <tr>\n",
       "      <th>5</th>\n",
       "      <td>2005</td>\n",
       "      <td>25.07</td>\n",
       "    </tr>\n",
       "    <tr>\n",
       "      <th>6</th>\n",
       "      <td>2006</td>\n",
       "      <td>22.71</td>\n",
       "    </tr>\n",
       "    <tr>\n",
       "      <th>7</th>\n",
       "      <td>2007</td>\n",
       "      <td>23.86</td>\n",
       "    </tr>\n",
       "    <tr>\n",
       "      <th>8</th>\n",
       "      <td>2008</td>\n",
       "      <td>29.25</td>\n",
       "    </tr>\n",
       "    <tr>\n",
       "      <th>9</th>\n",
       "      <td>2009</td>\n",
       "      <td>24.00</td>\n",
       "    </tr>\n",
       "    <tr>\n",
       "      <th>10</th>\n",
       "      <td>2010</td>\n",
       "      <td>26.12</td>\n",
       "    </tr>\n",
       "    <tr>\n",
       "      <th>11</th>\n",
       "      <td>2011</td>\n",
       "      <td>21.00</td>\n",
       "    </tr>\n",
       "    <tr>\n",
       "      <th>12</th>\n",
       "      <td>2012</td>\n",
       "      <td>18.50</td>\n",
       "    </tr>\n",
       "    <tr>\n",
       "      <th>13</th>\n",
       "      <td>2015</td>\n",
       "      <td>31.99</td>\n",
       "    </tr>\n",
       "  </tbody>\n",
       "</table>\n",
       "</div>"
      ],
      "text/plain": [
       "    PublishDateMedia  PriceMedia\n",
       "0               2000       25.09\n",
       "1               2001       21.15\n",
       "2               2002       22.49\n",
       "3               2003       22.59\n",
       "4               2004       23.39\n",
       "5               2005       25.07\n",
       "6               2006       22.71\n",
       "7               2007       23.86\n",
       "8               2008       29.25\n",
       "9               2009       24.00\n",
       "10              2010       26.12\n",
       "11              2011       21.00\n",
       "12              2012       18.50\n",
       "13              2015       31.99"
      ]
     },
     "execution_count": 17,
     "metadata": {},
     "output_type": "execute_result"
    }
   ],
   "source": [
    "# Obtendo de PublishDate unicamente los años\n",
    "Media = df['PublishDate'].dt.year\n",
    "# Agrupo por años mediante un GroupBy de Datos No Numericos, la media (.mean()) de la columna 'Price' por años cdelimitado con dos decimales (round())\n",
    "media_por_anio = round(df.groupby(Media)['Price'].mean(),2)\n",
    "# Creo un nuevo dataframe, con dos columnas ('PublishDateMedia' y 'PriceMedia'), las cuales cogen por valor distintos parametros de media_por_anio en funcion de lo obtenido\n",
    "df_Media = pd.DataFrame({'PublishDateMedia': media_por_anio.index, 'PriceMedia': media_por_anio.values})\n",
    "df_Media"
   ]
  },
  {
   "cell_type": "code",
   "execution_count": 18,
   "metadata": {},
   "outputs": [
    {
     "data": {
      "application/vnd.plotly.v1+json": {
       "config": {
        "plotlyServerURL": "https://plot.ly"
       },
       "data": [
        {
         "name": "Precio",
         "type": "scatter",
         "x": [
          "2000-01-05T00:00:00",
          "2000-01-08T00:00:00",
          "2000-03-05T00:00:00",
          "2000-03-12T00:00:00",
          "2000-04-20T00:00:00",
          "2000-10-01T00:00:00",
          "2000-10-18T00:00:00",
          "2000-10-18T00:00:00",
          "2000-11-08T00:00:00",
          "2000-11-25T00:00:00",
          "2000-12-16T00:00:00",
          "2001-04-12T00:00:00",
          "2001-08-20T00:00:00",
          "2001-10-29T00:00:00",
          "2002-01-28T00:00:00",
          "2002-05-15T00:00:00",
          "2002-09-18T00:00:00",
          "2002-11-08T00:00:00",
          "2002-12-03T00:00:00",
          "2003-04-10T00:00:00",
          "2003-06-30T00:00:00",
          "2003-10-15T00:00:00",
          "2003-11-28T00:00:00",
          "2003-12-01T00:00:00",
          "2004-03-10T00:00:00",
          "2004-06-25T00:00:00",
          "2004-08-22T00:00:00",
          "2004-09-10T00:00:00",
          "2004-09-14T00:00:00",
          "2004-09-22T00:00:00",
          "2005-02-08T00:00:00",
          "2005-06-05T00:00:00",
          "2005-06-12T00:00:00",
          "2005-06-12T00:00:00",
          "2005-06-20T00:00:00",
          "2005-06-30T00:00:00",
          "2005-09-22T00:00:00",
          "2006-05-15T00:00:00",
          "2006-08-14T00:00:00",
          "2006-09-18T00:00:00",
          "2006-09-25T00:00:00",
          "2006-12-03T00:00:00",
          "2006-12-10T00:00:00",
          "2006-12-19T00:00:00",
          "2007-01-08T00:00:00",
          "2007-04-01T00:00:00",
          "2007-09-15T00:00:00",
          "2007-10-15T00:00:00",
          "2008-06-02T00:00:00",
          "2008-06-30T00:00:00",
          "2008-07-12T00:00:00",
          "2008-09-22T00:00:00",
          "2008-12-15T00:00:00",
          "2008-12-22T00:00:00",
          "2009-04-05T00:00:00",
          "2009-04-15T00:00:00",
          "2009-04-25T00:00:00",
          "2009-09-25T00:00:00",
          "2009-12-15T00:00:00",
          "2010-06-20T00:00:00",
          "2010-08-18T00:00:00",
          "2011-12-12T00:00:00",
          "2012-01-28T00:00:00",
          "2015-08-18T00:00:00"
         ],
         "y": [
          18.5,
          18.5,
          16.5,
          32.75,
          28.99,
          44.95,
          26.95,
          23.95,
          29.95,
          29,
          5.95,
          25.99,
          12.5,
          24.95,
          20.5,
          29.99,
          25,
          21.95,
          14.99,
          26.99,
          19.75,
          28.95,
          15.75,
          21.5,
          19.95,
          23.95,
          25.5,
          28,
          23,
          19.95,
          21.5,
          22,
          24.75,
          14.75,
          33.75,
          29.75,
          29,
          27.99,
          24.99,
          18.5,
          27.5,
          20,
          19.5,
          20.5,
          22.5,
          19.5,
          26.5,
          26.95,
          31.75,
          31.75,
          34.99,
          27,
          22.5,
          27.5,
          22.99,
          28.99,
          17.5,
          26,
          24.5,
          25.75,
          26.5,
          21,
          18.5,
          31.99
         ]
        },
        {
         "name": "MediaPrecio",
         "type": "scatter",
         "x": [
          2000,
          2001,
          2002,
          2003,
          2004,
          2005,
          2006,
          2007,
          2008,
          2009,
          2010,
          2011,
          2012,
          2015
         ],
         "y": [
          25.09,
          21.15,
          22.49,
          22.59,
          23.39,
          25.07,
          22.71,
          23.86,
          29.25,
          24,
          26.12,
          21,
          18.5,
          31.99
         ]
        }
       ],
       "layout": {
        "template": {
         "data": {
          "bar": [
           {
            "error_x": {
             "color": "#2a3f5f"
            },
            "error_y": {
             "color": "#2a3f5f"
            },
            "marker": {
             "line": {
              "color": "#E5ECF6",
              "width": 0.5
             },
             "pattern": {
              "fillmode": "overlay",
              "size": 10,
              "solidity": 0.2
             }
            },
            "type": "bar"
           }
          ],
          "barpolar": [
           {
            "marker": {
             "line": {
              "color": "#E5ECF6",
              "width": 0.5
             },
             "pattern": {
              "fillmode": "overlay",
              "size": 10,
              "solidity": 0.2
             }
            },
            "type": "barpolar"
           }
          ],
          "carpet": [
           {
            "aaxis": {
             "endlinecolor": "#2a3f5f",
             "gridcolor": "white",
             "linecolor": "white",
             "minorgridcolor": "white",
             "startlinecolor": "#2a3f5f"
            },
            "baxis": {
             "endlinecolor": "#2a3f5f",
             "gridcolor": "white",
             "linecolor": "white",
             "minorgridcolor": "white",
             "startlinecolor": "#2a3f5f"
            },
            "type": "carpet"
           }
          ],
          "choropleth": [
           {
            "colorbar": {
             "outlinewidth": 0,
             "ticks": ""
            },
            "type": "choropleth"
           }
          ],
          "contour": [
           {
            "colorbar": {
             "outlinewidth": 0,
             "ticks": ""
            },
            "colorscale": [
             [
              0,
              "#0d0887"
             ],
             [
              0.1111111111111111,
              "#46039f"
             ],
             [
              0.2222222222222222,
              "#7201a8"
             ],
             [
              0.3333333333333333,
              "#9c179e"
             ],
             [
              0.4444444444444444,
              "#bd3786"
             ],
             [
              0.5555555555555556,
              "#d8576b"
             ],
             [
              0.6666666666666666,
              "#ed7953"
             ],
             [
              0.7777777777777778,
              "#fb9f3a"
             ],
             [
              0.8888888888888888,
              "#fdca26"
             ],
             [
              1,
              "#f0f921"
             ]
            ],
            "type": "contour"
           }
          ],
          "contourcarpet": [
           {
            "colorbar": {
             "outlinewidth": 0,
             "ticks": ""
            },
            "type": "contourcarpet"
           }
          ],
          "heatmap": [
           {
            "colorbar": {
             "outlinewidth": 0,
             "ticks": ""
            },
            "colorscale": [
             [
              0,
              "#0d0887"
             ],
             [
              0.1111111111111111,
              "#46039f"
             ],
             [
              0.2222222222222222,
              "#7201a8"
             ],
             [
              0.3333333333333333,
              "#9c179e"
             ],
             [
              0.4444444444444444,
              "#bd3786"
             ],
             [
              0.5555555555555556,
              "#d8576b"
             ],
             [
              0.6666666666666666,
              "#ed7953"
             ],
             [
              0.7777777777777778,
              "#fb9f3a"
             ],
             [
              0.8888888888888888,
              "#fdca26"
             ],
             [
              1,
              "#f0f921"
             ]
            ],
            "type": "heatmap"
           }
          ],
          "heatmapgl": [
           {
            "colorbar": {
             "outlinewidth": 0,
             "ticks": ""
            },
            "colorscale": [
             [
              0,
              "#0d0887"
             ],
             [
              0.1111111111111111,
              "#46039f"
             ],
             [
              0.2222222222222222,
              "#7201a8"
             ],
             [
              0.3333333333333333,
              "#9c179e"
             ],
             [
              0.4444444444444444,
              "#bd3786"
             ],
             [
              0.5555555555555556,
              "#d8576b"
             ],
             [
              0.6666666666666666,
              "#ed7953"
             ],
             [
              0.7777777777777778,
              "#fb9f3a"
             ],
             [
              0.8888888888888888,
              "#fdca26"
             ],
             [
              1,
              "#f0f921"
             ]
            ],
            "type": "heatmapgl"
           }
          ],
          "histogram": [
           {
            "marker": {
             "pattern": {
              "fillmode": "overlay",
              "size": 10,
              "solidity": 0.2
             }
            },
            "type": "histogram"
           }
          ],
          "histogram2d": [
           {
            "colorbar": {
             "outlinewidth": 0,
             "ticks": ""
            },
            "colorscale": [
             [
              0,
              "#0d0887"
             ],
             [
              0.1111111111111111,
              "#46039f"
             ],
             [
              0.2222222222222222,
              "#7201a8"
             ],
             [
              0.3333333333333333,
              "#9c179e"
             ],
             [
              0.4444444444444444,
              "#bd3786"
             ],
             [
              0.5555555555555556,
              "#d8576b"
             ],
             [
              0.6666666666666666,
              "#ed7953"
             ],
             [
              0.7777777777777778,
              "#fb9f3a"
             ],
             [
              0.8888888888888888,
              "#fdca26"
             ],
             [
              1,
              "#f0f921"
             ]
            ],
            "type": "histogram2d"
           }
          ],
          "histogram2dcontour": [
           {
            "colorbar": {
             "outlinewidth": 0,
             "ticks": ""
            },
            "colorscale": [
             [
              0,
              "#0d0887"
             ],
             [
              0.1111111111111111,
              "#46039f"
             ],
             [
              0.2222222222222222,
              "#7201a8"
             ],
             [
              0.3333333333333333,
              "#9c179e"
             ],
             [
              0.4444444444444444,
              "#bd3786"
             ],
             [
              0.5555555555555556,
              "#d8576b"
             ],
             [
              0.6666666666666666,
              "#ed7953"
             ],
             [
              0.7777777777777778,
              "#fb9f3a"
             ],
             [
              0.8888888888888888,
              "#fdca26"
             ],
             [
              1,
              "#f0f921"
             ]
            ],
            "type": "histogram2dcontour"
           }
          ],
          "mesh3d": [
           {
            "colorbar": {
             "outlinewidth": 0,
             "ticks": ""
            },
            "type": "mesh3d"
           }
          ],
          "parcoords": [
           {
            "line": {
             "colorbar": {
              "outlinewidth": 0,
              "ticks": ""
             }
            },
            "type": "parcoords"
           }
          ],
          "pie": [
           {
            "automargin": true,
            "type": "pie"
           }
          ],
          "scatter": [
           {
            "fillpattern": {
             "fillmode": "overlay",
             "size": 10,
             "solidity": 0.2
            },
            "type": "scatter"
           }
          ],
          "scatter3d": [
           {
            "line": {
             "colorbar": {
              "outlinewidth": 0,
              "ticks": ""
             }
            },
            "marker": {
             "colorbar": {
              "outlinewidth": 0,
              "ticks": ""
             }
            },
            "type": "scatter3d"
           }
          ],
          "scattercarpet": [
           {
            "marker": {
             "colorbar": {
              "outlinewidth": 0,
              "ticks": ""
             }
            },
            "type": "scattercarpet"
           }
          ],
          "scattergeo": [
           {
            "marker": {
             "colorbar": {
              "outlinewidth": 0,
              "ticks": ""
             }
            },
            "type": "scattergeo"
           }
          ],
          "scattergl": [
           {
            "marker": {
             "colorbar": {
              "outlinewidth": 0,
              "ticks": ""
             }
            },
            "type": "scattergl"
           }
          ],
          "scattermapbox": [
           {
            "marker": {
             "colorbar": {
              "outlinewidth": 0,
              "ticks": ""
             }
            },
            "type": "scattermapbox"
           }
          ],
          "scatterpolar": [
           {
            "marker": {
             "colorbar": {
              "outlinewidth": 0,
              "ticks": ""
             }
            },
            "type": "scatterpolar"
           }
          ],
          "scatterpolargl": [
           {
            "marker": {
             "colorbar": {
              "outlinewidth": 0,
              "ticks": ""
             }
            },
            "type": "scatterpolargl"
           }
          ],
          "scatterternary": [
           {
            "marker": {
             "colorbar": {
              "outlinewidth": 0,
              "ticks": ""
             }
            },
            "type": "scatterternary"
           }
          ],
          "surface": [
           {
            "colorbar": {
             "outlinewidth": 0,
             "ticks": ""
            },
            "colorscale": [
             [
              0,
              "#0d0887"
             ],
             [
              0.1111111111111111,
              "#46039f"
             ],
             [
              0.2222222222222222,
              "#7201a8"
             ],
             [
              0.3333333333333333,
              "#9c179e"
             ],
             [
              0.4444444444444444,
              "#bd3786"
             ],
             [
              0.5555555555555556,
              "#d8576b"
             ],
             [
              0.6666666666666666,
              "#ed7953"
             ],
             [
              0.7777777777777778,
              "#fb9f3a"
             ],
             [
              0.8888888888888888,
              "#fdca26"
             ],
             [
              1,
              "#f0f921"
             ]
            ],
            "type": "surface"
           }
          ],
          "table": [
           {
            "cells": {
             "fill": {
              "color": "#EBF0F8"
             },
             "line": {
              "color": "white"
             }
            },
            "header": {
             "fill": {
              "color": "#C8D4E3"
             },
             "line": {
              "color": "white"
             }
            },
            "type": "table"
           }
          ]
         },
         "layout": {
          "annotationdefaults": {
           "arrowcolor": "#2a3f5f",
           "arrowhead": 0,
           "arrowwidth": 1
          },
          "autotypenumbers": "strict",
          "coloraxis": {
           "colorbar": {
            "outlinewidth": 0,
            "ticks": ""
           }
          },
          "colorscale": {
           "diverging": [
            [
             0,
             "#8e0152"
            ],
            [
             0.1,
             "#c51b7d"
            ],
            [
             0.2,
             "#de77ae"
            ],
            [
             0.3,
             "#f1b6da"
            ],
            [
             0.4,
             "#fde0ef"
            ],
            [
             0.5,
             "#f7f7f7"
            ],
            [
             0.6,
             "#e6f5d0"
            ],
            [
             0.7,
             "#b8e186"
            ],
            [
             0.8,
             "#7fbc41"
            ],
            [
             0.9,
             "#4d9221"
            ],
            [
             1,
             "#276419"
            ]
           ],
           "sequential": [
            [
             0,
             "#0d0887"
            ],
            [
             0.1111111111111111,
             "#46039f"
            ],
            [
             0.2222222222222222,
             "#7201a8"
            ],
            [
             0.3333333333333333,
             "#9c179e"
            ],
            [
             0.4444444444444444,
             "#bd3786"
            ],
            [
             0.5555555555555556,
             "#d8576b"
            ],
            [
             0.6666666666666666,
             "#ed7953"
            ],
            [
             0.7777777777777778,
             "#fb9f3a"
            ],
            [
             0.8888888888888888,
             "#fdca26"
            ],
            [
             1,
             "#f0f921"
            ]
           ],
           "sequentialminus": [
            [
             0,
             "#0d0887"
            ],
            [
             0.1111111111111111,
             "#46039f"
            ],
            [
             0.2222222222222222,
             "#7201a8"
            ],
            [
             0.3333333333333333,
             "#9c179e"
            ],
            [
             0.4444444444444444,
             "#bd3786"
            ],
            [
             0.5555555555555556,
             "#d8576b"
            ],
            [
             0.6666666666666666,
             "#ed7953"
            ],
            [
             0.7777777777777778,
             "#fb9f3a"
            ],
            [
             0.8888888888888888,
             "#fdca26"
            ],
            [
             1,
             "#f0f921"
            ]
           ]
          },
          "colorway": [
           "#636efa",
           "#EF553B",
           "#00cc96",
           "#ab63fa",
           "#FFA15A",
           "#19d3f3",
           "#FF6692",
           "#B6E880",
           "#FF97FF",
           "#FECB52"
          ],
          "font": {
           "color": "#2a3f5f"
          },
          "geo": {
           "bgcolor": "white",
           "lakecolor": "white",
           "landcolor": "#E5ECF6",
           "showlakes": true,
           "showland": true,
           "subunitcolor": "white"
          },
          "hoverlabel": {
           "align": "left"
          },
          "hovermode": "closest",
          "mapbox": {
           "style": "light"
          },
          "paper_bgcolor": "white",
          "plot_bgcolor": "#E5ECF6",
          "polar": {
           "angularaxis": {
            "gridcolor": "white",
            "linecolor": "white",
            "ticks": ""
           },
           "bgcolor": "#E5ECF6",
           "radialaxis": {
            "gridcolor": "white",
            "linecolor": "white",
            "ticks": ""
           }
          },
          "scene": {
           "xaxis": {
            "backgroundcolor": "#E5ECF6",
            "gridcolor": "white",
            "gridwidth": 2,
            "linecolor": "white",
            "showbackground": true,
            "ticks": "",
            "zerolinecolor": "white"
           },
           "yaxis": {
            "backgroundcolor": "#E5ECF6",
            "gridcolor": "white",
            "gridwidth": 2,
            "linecolor": "white",
            "showbackground": true,
            "ticks": "",
            "zerolinecolor": "white"
           },
           "zaxis": {
            "backgroundcolor": "#E5ECF6",
            "gridcolor": "white",
            "gridwidth": 2,
            "linecolor": "white",
            "showbackground": true,
            "ticks": "",
            "zerolinecolor": "white"
           }
          },
          "shapedefaults": {
           "line": {
            "color": "#2a3f5f"
           }
          },
          "ternary": {
           "aaxis": {
            "gridcolor": "white",
            "linecolor": "white",
            "ticks": ""
           },
           "baxis": {
            "gridcolor": "white",
            "linecolor": "white",
            "ticks": ""
           },
           "bgcolor": "#E5ECF6",
           "caxis": {
            "gridcolor": "white",
            "linecolor": "white",
            "ticks": ""
           }
          },
          "title": {
           "x": 0.05
          },
          "xaxis": {
           "automargin": true,
           "gridcolor": "white",
           "linecolor": "white",
           "ticks": "",
           "title": {
            "standoff": 15
           },
           "zerolinecolor": "white",
           "zerolinewidth": 2
          },
          "yaxis": {
           "automargin": true,
           "gridcolor": "white",
           "linecolor": "white",
           "ticks": "",
           "title": {
            "standoff": 15
           },
           "zerolinecolor": "white",
           "zerolinewidth": 2
          }
         }
        },
        "title": {
         "text": "Analisis de datos"
        },
        "xaxis": {
         "title": {
          "text": "Anios"
         }
        },
        "yaxis": {
         "title": {
          "text": "Precio"
         }
        }
       }
      }
     },
     "metadata": {},
     "output_type": "display_data"
    }
   ],
   "source": [
    "# Creacion de la serie historica mediante la libreria plotly.graph_objects\n",
    "\n",
    "# Pirme elemento visual, los precios de libros ordenados conologicamente\n",
    "Precios = go.Scatter(x = df['PublishDate'], y = df['Price'], name='Precio')\n",
    "# Segundo elemento visual, la media de los libros por anio ordenados cronologicamente\n",
    "MediaPrecio = go.Scatter(x = df_Media['PublishDateMedia'], y = df_Media['PriceMedia'], name='MediaPrecio')\n",
    "\n",
    "layout = go.Layout(title='Analisis de datos', xaxis= dict(title = \"Anios\"), yaxis= dict(title = \"Precio\"))\n",
    "\n",
    "fig = go.Figure(data=[Precios,MediaPrecio], layout=layout)\n",
    "\n",
    "fig.show()"
   ]
  },
  {
   "cell_type": "markdown",
   "metadata": {},
   "source": [
    "## Bibliografia\n",
    "\n",
    "- https://pandas.pydata.org/docs/reference/api/pandas.DataFrame.groupby.html\n",
    "- https://pandas.pydata.org/docs/reference/api/pandas.DataFrame.mean.html\n",
    "- https://docs.kanaries.net/es/topics/Python/dataframe-groupby\n",
    "- https://www.delftstack.com/es/howto/python-pandas/how-to-extract-month-and-year-separately-from-datetime-column-in-pandas/\n",
    "- https://numpy.org/doc/stable/reference/generated/numpy.where.html"
   ]
  }
 ],
 "metadata": {
  "kernelspec": {
   "display_name": "Python 3 (ipykernel)",
   "language": "python",
   "name": "python3"
  },
  "language_info": {
   "codemirror_mode": {
    "name": "ipython",
    "version": 3
   },
   "file_extension": ".py",
   "mimetype": "text/x-python",
   "name": "python",
   "nbconvert_exporter": "python",
   "pygments_lexer": "ipython3",
   "version": "3.11.5"
  }
 },
 "nbformat": 4,
 "nbformat_minor": 2
}
